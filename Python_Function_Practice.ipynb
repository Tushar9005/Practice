{
 "cells": [
  {
   "cell_type": "markdown",
   "metadata": {},
   "source": [
    "### Que 1. You have To write a function which will take string and return a len of it without using inbuilt function len"
   ]
  },
  {
   "cell_type": "code",
   "execution_count": 7,
   "metadata": {},
   "outputs": [
    {
     "data": {
      "text/plain": [
       "6"
      ]
     },
     "execution_count": 7,
     "metadata": {},
     "output_type": "execute_result"
    }
   ],
   "source": [
    "def countlen(a):\n",
    "    count = 0\n",
    "    for i in a:\n",
    "        count = count + 1\n",
    "    return count\n",
    "\n",
    "countlen(\"Tushar\")"
   ]
  },
  {
   "cell_type": "code",
   "execution_count": 8,
   "metadata": {},
   "outputs": [
    {
     "name": "stdout",
     "output_type": "stream",
     "text": [
      "Input: Tushar, type: <class 'str'>\n"
     ]
    },
    {
     "data": {
      "text/plain": [
       "6"
      ]
     },
     "execution_count": 8,
     "metadata": {},
     "output_type": "execute_result"
    }
   ],
   "source": [
    "# trying to add condition to if input value is either str or not\n",
    "\n",
    "def countlen(a):\n",
    "    print(f\"Input: {a}, type: {type(a)}\")\n",
    "    if type(a) != str:\n",
    "        return \"Plz enter str value\"\n",
    "\n",
    "    count = 0\n",
    "    for i in a:\n",
    "        count = count + 1\n",
    "    return count\n",
    "\n",
    "\n",
    "countlen(\"Tushar\")"
   ]
  },
  {
   "cell_type": "markdown",
   "metadata": {},
   "source": [
    "### Que 2. write a fun which will be able to print an index of all premitive element which you will pass"
   ]
  },
  {
   "cell_type": "code",
   "execution_count": 45,
   "metadata": {},
   "outputs": [],
   "source": [
    "def index(a):\n",
    "    index = 0\n",
    "    if type(a) == list:\n",
    "        for i in a:\n",
    "            index = index + 1\n",
    "            print(\"index of \", i, 'is ', index - 1)\n"
   ]
  },
  {
   "cell_type": "code",
   "execution_count": 46,
   "metadata": {},
   "outputs": [
    {
     "name": "stdout",
     "output_type": "stream",
     "text": [
      "index of  34 is  0\n",
      "index of  56 is  1\n",
      "index of  12 is  2\n",
      "index of  Tushar is  3\n"
     ]
    }
   ],
   "source": [
    "index([34,56,12, 'Tushar'])"
   ]
  },
  {
   "cell_type": "markdown",
   "metadata": {},
   "source": [
    "Check how to put else condition if input is not list "
   ]
  },
  {
   "cell_type": "markdown",
   "metadata": {},
   "source": [
    "### Que 3. write a fun which will take input as a dict and give me output as a list of all values even in case of 2 level nesting it should work."
   ]
  },
  {
   "cell_type": "code",
   "execution_count": 64,
   "metadata": {},
   "outputs": [
    {
     "data": {
      "text/plain": [
       "['a', 'b', 'b', 'n']"
      ]
     },
     "execution_count": 64,
     "metadata": {},
     "output_type": "execute_result"
    }
   ],
   "source": [
    "def listconv(a):\n",
    "    list = []\n",
    "    if type(a) == dict:\n",
    "        for i in a:\n",
    "            for j in i:\n",
    "                list.append(j)\n",
    "        return list\n",
    "\n",
    "listconv({\"a\" : 3, \"b\" : 7, \"bn\" : {\"c\" : 88, \"tush\" : 69 }})"
   ]
  },
  {
   "cell_type": "markdown",
   "metadata": {},
   "source": [
    "## Solve this above shit"
   ]
  },
  {
   "cell_type": "markdown",
   "metadata": {},
   "source": []
  }
 ],
 "metadata": {
  "kernelspec": {
   "display_name": "base",
   "language": "python",
   "name": "python3"
  },
  "language_info": {
   "codemirror_mode": {
    "name": "ipython",
    "version": 3
   },
   "file_extension": ".py",
   "mimetype": "text/x-python",
   "name": "python",
   "nbconvert_exporter": "python",
   "pygments_lexer": "ipython3",
   "version": "3.12.4"
  }
 },
 "nbformat": 4,
 "nbformat_minor": 2
}
