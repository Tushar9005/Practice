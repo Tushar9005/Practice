{
 "cells": [
  {
   "cell_type": "markdown",
   "metadata": {},
   "source": [
    "### Que 1. You have To write a function which will take string and return a len of it without using inbuilt function len"
   ]
  },
  {
   "cell_type": "code",
   "execution_count": 7,
   "metadata": {},
   "outputs": [
    {
     "data": {
      "text/plain": [
       "6"
      ]
     },
     "execution_count": 7,
     "metadata": {},
     "output_type": "execute_result"
    }
   ],
   "source": [
    "def countlen(a):\n",
    "    count = 0\n",
    "    for i in a:\n",
    "        count = count + 1\n",
    "    return count\n",
    "\n",
    "countlen(\"Tushar\")"
   ]
  },
  {
   "cell_type": "code",
   "execution_count": 8,
   "metadata": {},
   "outputs": [
    {
     "name": "stdout",
     "output_type": "stream",
     "text": [
      "Input: Tushar, type: <class 'str'>\n"
     ]
    },
    {
     "data": {
      "text/plain": [
       "6"
      ]
     },
     "execution_count": 8,
     "metadata": {},
     "output_type": "execute_result"
    }
   ],
   "source": [
    "# trying to add condition to if input value is either str or not\n",
    "\n",
    "def countlen(a):\n",
    "    print(f\"Input: {a}, type: {type(a)}\")\n",
    "    if type(a) != str:\n",
    "        return \"Plz enter str value\"\n",
    "\n",
    "    count = 0\n",
    "    for i in a:\n",
    "        count = count + 1\n",
    "    return count\n",
    "\n",
    "\n",
    "countlen(\"Tushar\")"
   ]
  },
  {
   "cell_type": "code",
   "execution_count": null,
   "metadata": {},
   "outputs": [],
   "source": []
  }
 ],
 "metadata": {
  "kernelspec": {
   "display_name": "base",
   "language": "python",
   "name": "python3"
  },
  "language_info": {
   "codemirror_mode": {
    "name": "ipython",
    "version": 3
   },
   "file_extension": ".py",
   "mimetype": "text/x-python",
   "name": "python",
   "nbconvert_exporter": "python",
   "pygments_lexer": "ipython3",
   "version": "3.12.4"
  }
 },
 "nbformat": 4,
 "nbformat_minor": 2
}
